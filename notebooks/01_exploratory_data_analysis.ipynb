{
    "cells": [
     {
      "cell_type": "markdown",
      "metadata": {},
      "source": [
       "# Baseball Pitch Prediction - Exploratory Data Analysis\n",
       "\n",
       "This notebook explores the MLB pitch data collected for our prediction model. We'll analyze patterns in pitch selection, game situations, and player tendencies."
      ]
     },
     {
      "cell_type": "code",
      "execution_count": null,
      "metadata": {},
      "source": [
       "# Import required libraries\n",
       "import pandas as pd\n",
       "import numpy as np\n",
       "import matplotlib.pyplot as plt\n",
       "import seaborn as sns\n",
       "from datetime import datetime\n",
       "\n",
       "# Set style for plots\n",
       "plt.style.use('seaborn')\n",
       "sns.set_palette('husl')\n",
       "\n",
       "# Configure plot settings\n",
       "plt.rcParams['figure.figsize'] = [12, 6]\n",
       "plt.rcParams['figure.dpi'] = 100"
      ]
     },
     {
      "cell_type": "markdown",
      "metadata": {},
      "source": [
       "## 1. Load and Examine the Data"
      ]
     },
     {
      "cell_type": "code",
      "execution_count": null,
      "metadata": {},
      "source": [
       "# Load the processed data\n",
       "data = pd.read_csv('data/processed/modeling_data_2021_to_2023.csv')\n",
       "\n",
       "# Display basic information about the dataset\n",
       "print(\"Dataset Shape:\", data.shape)\n",
       "print(\"\\nFeature Names:\")\n",
       "print(data.columns.tolist())\n",
       "print(\"\\nBasic Statistics:\")\n",
       "data.describe()"
      ]
     },
     {
      "cell_type": "markdown",
      "metadata": {},
      "source": [
       "## 2. Pitch Type Distribution Analysis"
      ]
     },
     {
      "cell_type": "code",
      "execution_count": null,
      "metadata": {},
      "source": [
       "# Overall fastball vs offspeed distribution\n",
       "plt.figure(figsize=(10, 6))\n",
       "sns.countplot(data=data, x='is_fastball')\n",
       "plt.title('Distribution of Fastballs vs Offspeed Pitches')\n",
       "plt.xlabel('Pitch Type (0=Offspeed, 1=Fastball)')\n",
       "plt.ylabel('Count')\n",
       "\n",
       "# Calculate and display percentages\n",
       "fb_pct = (data['is_fastball'].mean() * 100)\n",
       "print(f\"Fastball Percentage: {fb_pct:.2f}%\")\n",
       "print(f\"Offspeed Percentage: {100-fb_pct:.2f}%\")"
      ]
     },
     {
      "cell_type": "markdown",
      "metadata": {},
      "source": [
       "## 3. Game Situation Analysis"
      ]
     },
     {
      "cell_type": "code",
      "execution_count": null,
      "metadata": {},
      "source": [
       "# Analyze pitch selection by count\n",
       "plt.figure(figsize=(15, 6))\n",
       "counts = ['0-0', '0-1', '0-2', '1-0', '1-1', '1-2', '2-0', '2-1', '2-2', '3-0', '3-1', '3-2']\n",
       "fb_by_count = data.groupby('count')['is_fastball'].mean().reindex(counts) * 100\n",
       "\n",
       "sns.barplot(x=fb_by_count.index, y=fb_by_count.values)\n",
       "plt.title('Fastball Percentage by Count')\n",
       "plt.xlabel('Count')\n",
       "plt.ylabel('Fastball %')\n",
       "plt.xticks(rotation=45)"
      ]
     },
     {
      "cell_type": "markdown",
      "metadata": {},
      "source": [
       "## 4. Pitcher Tendencies Analysis"
      ]
     },
     {
      "cell_type": "code",
      "execution_count": null,
      "metadata": {},
      "source": [
       "# Distribution of pitcher fastball percentages\n",
       "plt.figure(figsize=(12, 6))\n",
       "sns.histplot(data=data, x='pitcher_fb_pct', bins=30)\n",
       "plt.title('Distribution of Pitcher Fastball Percentages')\n",
       "plt.xlabel('Fastball Percentage')\n",
       "plt.ylabel('Count')\n",
       "\n",
       "# Show statistics\n",
       "print(\"Pitcher Fastball Percentage Statistics:\")\n",
       "print(data['pitcher_fb_pct'].describe())"
      ]
     },
     {
      "cell_type": "markdown",
      "metadata": {},
      "source": [
       "## 5. Count and Pressure Situation Analysis"
      ]
     },
     {
      "cell_type": "code",
      "execution_count": null,
      "metadata": {},
      "source": [
       "# Compare fastball usage in different count situations\n",
       "situations = ['hitter_count', 'pitcher_count', 'neutral_count']\n",
       "fb_by_situation = [data[data[sit] == 1]['is_fastball'].mean() * 100 for sit in situations]\n",
       "\n",
       "plt.figure(figsize=(10, 6))\n",
       "sns.barplot(x=situations, y=fb_by_situation)\n",
       "plt.title('Fastball Usage by Count Situation')\n",
       "plt.xlabel('Situation')\n",
       "plt.ylabel('Fastball %')\n",
       "plt.xticks(rotation=45)"
      ]
     },
     {
      "cell_type": "markdown",
      "metadata": {},
      "source": [
       "## 6. Sequence Analysis"
      ]
     },
     {
      "cell_type": "code",
      "execution_count": null,
      "metadata": {},
      "source": [
       "# Analyze how previous pitch affects next pitch selection\n",
       "prev_next = pd.crosstab(data['prev_is_fastball'], data['is_fastball'], normalize='index') * 100\n",
       "\n",
       "plt.figure(figsize=(10, 6))\n",
       "prev_next.plot(kind='bar')\n",
       "plt.title('Next Pitch Type Based on Previous Pitch')\n",
       "plt.xlabel('Previous Pitch (0=Offspeed, 1=Fastball)')\n",
       "plt.ylabel('Percentage')\n",
       "plt.legend(['Offspeed', 'Fastball'])\n",
       "plt.xticks(rotation=0)"
      ]
     },
     {
      "cell_type": "markdown",
      "metadata": {},
      "source": [
       "## 7. Batter Performance Analysis"
      ]
     },
     {
      "cell_type": "code",
      "execution_count": null,
      "metadata": {},
      "source": [
       "# Analyze batter success against different pitch types\n",
       "plt.figure(figsize=(12, 6))\n",
       "data[['batter_success_vs_fb', 'batter_success_vs_os']].boxplot()\n",
       "plt.title('Batter Success Rates Against Different Pitch Types')\n",
       "plt.ylabel('Success Rate')\n",
       "\n",
       "# Print average success rates\n",
       "print(\"Average Success Rates:\")\n",
       "print(f\"vs Fastball: {data['batter_success_vs_fb'].mean():.3f}\")\n",
       "print(f\"vs Offspeed: {data['batter_success_vs_os'].mean():.3f}\")"
      ]
     },
     {
      "cell_type": "markdown",
      "metadata": {},
      "source": [
       "## 8. Correlation Analysis"
      ]
     },
     {
      "cell_type": "code",
      "execution_count": null,
      "metadata": {},
      "source": [
       "# Create correlation matrix of numerical features\n",
       "correlation_matrix = data.select_dtypes(include=[np.number]).corr()\n",
       "\n",
       "plt.figure(figsize=(15, 12))\n",
       "sns.heatmap(correlation_matrix, annot=True, cmap='coolwarm', center=0)\n",
       "plt.title('Feature Correlation Matrix')\n",
       "plt.xticks(rotation=45, ha='right')\n",
       "plt.yticks(rotation=0)"
      ]
     }
    ],
    "metadata": {
     "kernelspec": {
      "display_name": "venv312",
      "language": "python",
      "name": "python3"
     },
     "language_info": {
      "codemirror_mode": {
       "name": "ipython",
       "version": 3
      },
      "file_extension": ".py",
      "mimetype": "text/x-python",
      "name": "python",
      "nbconvert_exporter": "python",
      "pygments_lexer": "ipython3",
      "version": "3.12.5"
     }
    },
    "nbformat": 4,
    "nbformat_minor": 4
   }